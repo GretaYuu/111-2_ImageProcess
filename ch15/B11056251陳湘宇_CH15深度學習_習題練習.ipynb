{
  "nbformat": 4,
  "nbformat_minor": 0,
  "metadata": {
    "colab": {
      "provenance": []
    },
    "kernelspec": {
      "name": "python3",
      "display_name": "Python 3"
    },
    "language_info": {
      "name": "python"
    }
  },
  "cells": [
    {
      "cell_type": "markdown",
      "source": [
        "#B11056251 陳湘宇 ch15習題2  \n"
      ],
      "metadata": {
        "id": "DMX-Z7IDQpnv"
      }
    },
    {
      "cell_type": "code",
      "source": [
        "import numpy as np\n",
        "import tensorflow as tf\n",
        "from tensorflow.keras.datasets import mnist\n",
        "from tensorflow.keras.models import Sequential\n",
        "from tensorflow.keras.layers import Conv2D, MaxPooling2D, Flatten, Dense\n",
        "from tensorflow.keras.utils import to_categorical\n",
        "\n",
        "# 載入 MNIST 資料集\n",
        "(train_images, train_labels), (test_images, test_labels) = mnist.load_data()\n",
        "\n",
        "# 資料前處理\n",
        "train_images = train_images.reshape((60000, 28, 28, 1))\n",
        "train_images = train_images.astype('float32') / 255.0\n",
        "\n",
        "test_images = test_images.reshape((10000, 28, 28, 1))\n",
        "test_images = test_images.astype('float32') / 255.0\n",
        "\n",
        "train_labels = to_categorical(train_labels)\n",
        "test_labels = to_categorical(test_labels)\n",
        "\n",
        "# 建立卷積神經網路\n",
        "model = Sequential()\n",
        "model.add(Conv2D(32, (3, 3), activation='relu', input_shape=(28, 28, 1)))\n",
        "model.add(MaxPooling2D((2, 2)))\n",
        "model.add(Conv2D(64, (3, 3), activation='relu'))\n",
        "model.add(MaxPooling2D((2, 2)))\n",
        "model.add(Flatten())\n",
        "model.add(Dense(64, activation='relu'))\n",
        "model.add(Dense(10, activation='softmax'))\n",
        "\n",
        "# 編譯模型\n",
        "model.compile(optimizer='adam',\n",
        "              loss='categorical_crossentropy',\n",
        "              metrics=['accuracy'])\n",
        "\n",
        "# 訓練模型\n",
        "model.fit(train_images, train_labels, epochs=5, batch_size=64)\n",
        "\n",
        "# 評估模型\n",
        "_, train_acc = model.evaluate(train_images, train_labels)\n",
        "_, test_acc = model.evaluate(test_images, test_labels)\n",
        "\n",
        "print(\"CNN - Train Accuracy:\", train_acc)\n",
        "print(\"CNN - Test Accuracy:\", test_acc)\n",
        "\n",
        "# 使用人工神經網路（多層感知機）進行比較\n",
        "mlp_model = Sequential()\n",
        "mlp_model.add(Flatten(input_shape=(28, 28)))\n",
        "mlp_model.add(Dense(64, activation='relu'))\n",
        "mlp_model.add(Dense(10, activation='softmax'))\n",
        "\n",
        "mlp_model.compile(optimizer='adam',\n",
        "                  loss='categorical_crossentropy',\n",
        "                  metrics=['accuracy'])\n",
        "\n",
        "mlp_model.fit(train_images, train_labels, epochs=5, batch_size=64)\n",
        "\n",
        "_, mlp_train_acc = mlp_model.evaluate(train_images, train_labels)\n",
        "_, mlp_test_acc = mlp_model.evaluate(test_images, test_labels)\n",
        "\n",
        "print(\"MLP - Train Accuracy:\", mlp_train_acc)\n",
        "print(\"MLP - Test Accuracy:\", mlp_test_acc)\n"
      ],
      "metadata": {
        "colab": {
          "base_uri": "https://localhost:8080/"
        },
        "id": "KvhbIhWnQu0y",
        "outputId": "54dc2ee4-e35d-460a-e1c7-4e0a1abc2840"
      },
      "execution_count": null,
      "outputs": [
        {
          "output_type": "stream",
          "name": "stdout",
          "text": [
            "Downloading data from https://storage.googleapis.com/tensorflow/tf-keras-datasets/mnist.npz\n",
            "11490434/11490434 [==============================] - 1s 0us/step\n",
            "Epoch 1/5\n",
            "938/938 [==============================] - 57s 60ms/step - loss: 0.1716 - accuracy: 0.9474\n",
            "Epoch 2/5\n",
            "938/938 [==============================] - 56s 60ms/step - loss: 0.0535 - accuracy: 0.9836\n",
            "Epoch 3/5\n",
            "938/938 [==============================] - 57s 61ms/step - loss: 0.0374 - accuracy: 0.9882\n",
            "Epoch 4/5\n",
            "938/938 [==============================] - 56s 60ms/step - loss: 0.0276 - accuracy: 0.9911\n",
            "Epoch 5/5\n",
            "938/938 [==============================] - 56s 59ms/step - loss: 0.0226 - accuracy: 0.9930\n",
            "1875/1875 [==============================] - 19s 10ms/step - loss: 0.0168 - accuracy: 0.9948\n",
            "313/313 [==============================] - 3s 9ms/step - loss: 0.0321 - accuracy: 0.9898\n",
            "CNN - Train Accuracy: 0.9947999715805054\n",
            "CNN - Test Accuracy: 0.989799976348877\n",
            "Epoch 1/5\n",
            "938/938 [==============================] - 5s 4ms/step - loss: 0.3428 - accuracy: 0.9048\n",
            "Epoch 2/5\n",
            "938/938 [==============================] - 3s 3ms/step - loss: 0.1694 - accuracy: 0.9523\n",
            "Epoch 3/5\n",
            "938/938 [==============================] - 3s 3ms/step - loss: 0.1249 - accuracy: 0.9637\n",
            "Epoch 4/5\n",
            "938/938 [==============================] - 4s 4ms/step - loss: 0.1006 - accuracy: 0.9705\n",
            "Epoch 5/5\n",
            "938/938 [==============================] - 4s 4ms/step - loss: 0.0831 - accuracy: 0.9757\n",
            "1875/1875 [==============================] - 4s 2ms/step - loss: 0.0659 - accuracy: 0.9811\n",
            "313/313 [==============================] - 1s 2ms/step - loss: 0.0965 - accuracy: 0.9709\n",
            "MLP - Train Accuracy: 0.9811333417892456\n",
            "MLP - Test Accuracy: 0.9708999991416931\n"
          ]
        }
      ]
    },
    {
      "cell_type": "markdown",
      "source": [
        "#B11056251 陳湘宇 ch15習題3  CNN_cifary10.py\n",
        "\n",
        "\n"
      ],
      "metadata": {
        "id": "aRy0xObOOfvH"
      }
    },
    {
      "cell_type": "code",
      "execution_count": null,
      "metadata": {
        "colab": {
          "base_uri": "https://localhost:8080/"
        },
        "id": "pQeGQZYvOP24",
        "outputId": "76aa7cc4-9ec7-487b-d595-747adbeddd4f"
      },
      "outputs": [
        {
          "output_type": "stream",
          "name": "stdout",
          "text": [
            "Model: \"sequential_3\"\n",
            "_________________________________________________________________\n",
            " Layer (type)                Output Shape              Param #   \n",
            "=================================================================\n",
            " conv2d_4 (Conv2D)           (None, 32, 32, 32)        896       \n",
            "                                                                 \n",
            " max_pooling2d_4 (MaxPooling  (None, 16, 16, 32)       0         \n",
            " 2D)                                                             \n",
            "                                                                 \n",
            " conv2d_5 (Conv2D)           (None, 16, 16, 64)        18496     \n",
            "                                                                 \n",
            " max_pooling2d_5 (MaxPooling  (None, 8, 8, 64)         0         \n",
            " 2D)                                                             \n",
            "                                                                 \n",
            " flatten_3 (Flatten)         (None, 4096)              0         \n",
            "                                                                 \n",
            " dense_6 (Dense)             (None, 1024)              4195328   \n",
            "                                                                 \n",
            " dense_7 (Dense)             (None, 10)                10250     \n",
            "                                                                 \n",
            "=================================================================\n",
            "Total params: 4,224,970\n",
            "Trainable params: 4,224,970\n",
            "Non-trainable params: 0\n",
            "_________________________________________________________________\n",
            "None\n",
            "Epoch 1/10\n",
            "250/250 [==============================] - 130s 512ms/step - loss: 1.5197 - accuracy: 0.4574\n",
            "Epoch 2/10\n",
            "250/250 [==============================] - 130s 522ms/step - loss: 1.0950 - accuracy: 0.6150\n",
            "Epoch 3/10\n",
            "250/250 [==============================] - 129s 516ms/step - loss: 0.9281 - accuracy: 0.6745\n",
            "Epoch 4/10\n",
            "250/250 [==============================] - 128s 512ms/step - loss: 0.8268 - accuracy: 0.7110\n",
            "Epoch 5/10\n",
            "250/250 [==============================] - 125s 502ms/step - loss: 0.7258 - accuracy: 0.7479\n",
            "Epoch 6/10\n",
            "250/250 [==============================] - 127s 507ms/step - loss: 0.6423 - accuracy: 0.7779\n",
            "Epoch 7/10\n",
            "250/250 [==============================] - 126s 502ms/step - loss: 0.5499 - accuracy: 0.8104\n",
            "Epoch 8/10\n",
            "250/250 [==============================] - 127s 509ms/step - loss: 0.4564 - accuracy: 0.8441\n",
            "Epoch 9/10\n",
            "250/250 [==============================] - 127s 510ms/step - loss: 0.3623 - accuracy: 0.8794\n",
            "Epoch 10/10\n",
            "250/250 [==============================] - 126s 505ms/step - loss: 0.2811 - accuracy: 0.9082\n",
            "313/313 [==============================] - 9s 29ms/step - loss: 0.9254 - accuracy: 0.7266\n",
            "Test Accuracy: 0.7265999913215637\n"
          ]
        }
      ],
      "source": [
        "from tensorflow.keras.datasets import cifar10\n",
        "from tensorflow.keras.models import Sequential\n",
        "from tensorflow.keras.layers import Dense, Dropout, Activation, Flatten\n",
        "from tensorflow.keras.layers import Conv2D, MaxPooling2D\n",
        "from tensorflow.keras.utils import to_categorical\n",
        "import numpy as np\n",
        "\n",
        "# 載入CIFAR-10資料集\n",
        "(train_images, train_labels), (test_images, test_labels) = cifar10.load_data()\n",
        "\n",
        "# 建立卷積神經網路\n",
        "network = Sequential()\n",
        "network.add(Conv2D(filters=32, kernel_size=(3, 3), input_shape=(32, 32, 3), activation='relu', padding='same'))\n",
        "network.add(MaxPooling2D(pool_size=(2, 2)))\n",
        "network.add(Conv2D(filters=64, kernel_size=(3, 3), activation='relu', padding='same'))\n",
        "network.add(MaxPooling2D(pool_size=(2, 2)))\n",
        "network.add(Flatten())\n",
        "network.add(Dense(1024, activation='relu'))\n",
        "network.add(Dense(10, activation='softmax'))\n",
        "\n",
        "network.compile(optimizer='adam', loss='categorical_crossentropy', metrics=['accuracy'])\n",
        "\n",
        "print(network.summary())\n",
        "\n",
        "# 資料前處理\n",
        "train_images = train_images.astype('float32') / 255\n",
        "test_images = test_images.astype('float32') / 255\n",
        "train_labels = to_categorical(train_labels)\n",
        "test_labels = to_categorical(test_labels)\n",
        "\n",
        "# 訓練階段\n",
        "network.fit(train_images, train_labels, epochs=10, batch_size=200)\n",
        "\n",
        "# 測試階段\n",
        "test_loss, test_acc = network.evaluate(test_images, test_labels)\n",
        "print(\"Test Accuracy:\", test_acc)\n"
      ]
    },
    {
      "cell_type": "markdown",
      "source": [
        "#B11056251 陳湘宇 ch15習題4  \n"
      ],
      "metadata": {
        "id": "h6307Ai4OtG-"
      }
    },
    {
      "cell_type": "code",
      "source": [
        "import tensorflow as tf\n",
        "from tensorflow.keras.datasets import cifar100\n",
        "from tensorflow.keras.models import Sequential\n",
        "from tensorflow.keras.layers import Conv2D, MaxPooling2D, Flatten, Dense\n",
        "from tensorflow.keras.utils import to_categorical\n",
        "\n",
        "# 載入 CIFAR-100 資料集\n",
        "(train_images, train_labels), (test_images, test_labels) = cifar100.load_data()\n",
        "\n",
        "# 資料前處理\n",
        "train_images = train_images.astype('float32') / 255.0\n",
        "test_images = test_images.astype('float32') / 255.0\n",
        "train_labels = to_categorical(train_labels, num_classes=100)\n",
        "test_labels = to_categorical(test_labels, num_classes=100)\n",
        "\n",
        "# 建立卷積神經網路\n",
        "model = Sequential()\n",
        "model.add(Conv2D(32, (3, 3), activation='relu', input_shape=(32, 32, 3)))\n",
        "model.add(MaxPooling2D((2, 2)))\n",
        "model.add(Conv2D(64, (3, 3), activation='relu'))\n",
        "model.add(MaxPooling2D((2, 2)))\n",
        "model.add(Flatten())\n",
        "model.add(Dense(128, activation='relu'))\n",
        "model.add(Dense(100, activation='softmax'))\n",
        "\n",
        "# 編譯模型\n",
        "model.compile(optimizer='adam',\n",
        "              loss='categorical_crossentropy',\n",
        "              metrics=['accuracy'])\n",
        "\n",
        "# 訓練模型\n",
        "model.fit(train_images, train_labels, epochs=10, batch_size=128, validation_data=(test_images, test_labels))\n",
        "\n",
        "# 評估模型\n",
        "test_loss, test_acc = model.evaluate(test_images, test_labels)\n",
        "print(\"Test Accuracy:\", test_acc)\n"
      ],
      "metadata": {
        "colab": {
          "base_uri": "https://localhost:8080/"
        },
        "id": "N8bXbBNpOe0S",
        "outputId": "50fd1681-96d7-42d5-d5a7-61e0367a6270"
      },
      "execution_count": null,
      "outputs": [
        {
          "output_type": "stream",
          "name": "stdout",
          "text": [
            "Downloading data from https://www.cs.toronto.edu/~kriz/cifar-100-python.tar.gz\n",
            "169001437/169001437 [==============================] - 11s 0us/step\n",
            "Epoch 1/10\n",
            "391/391 [==============================] - 75s 188ms/step - loss: 3.8616 - accuracy: 0.1205 - val_loss: 3.4535 - val_accuracy: 0.1888\n",
            "Epoch 2/10\n",
            "391/391 [==============================] - 71s 181ms/step - loss: 3.1721 - accuracy: 0.2357 - val_loss: 3.1046 - val_accuracy: 0.2513\n",
            "Epoch 3/10\n",
            "391/391 [==============================] - 69s 177ms/step - loss: 2.8653 - accuracy: 0.2974 - val_loss: 2.8832 - val_accuracy: 0.2946\n",
            "Epoch 4/10\n",
            "391/391 [==============================] - 70s 179ms/step - loss: 2.6708 - accuracy: 0.3334 - val_loss: 2.7498 - val_accuracy: 0.3229\n",
            "Epoch 5/10\n",
            "391/391 [==============================] - 71s 181ms/step - loss: 2.5184 - accuracy: 0.3653 - val_loss: 2.6393 - val_accuracy: 0.3418\n",
            "Epoch 6/10\n",
            "391/391 [==============================] - 69s 176ms/step - loss: 2.3891 - accuracy: 0.3928 - val_loss: 2.6315 - val_accuracy: 0.3498\n",
            "Epoch 7/10\n",
            "391/391 [==============================] - 70s 180ms/step - loss: 2.2826 - accuracy: 0.4154 - val_loss: 2.5915 - val_accuracy: 0.3600\n",
            "Epoch 8/10\n",
            "391/391 [==============================] - 70s 178ms/step - loss: 2.1747 - accuracy: 0.4430 - val_loss: 2.5187 - val_accuracy: 0.3740\n",
            "Epoch 9/10\n",
            "391/391 [==============================] - 70s 180ms/step - loss: 2.0830 - accuracy: 0.4587 - val_loss: 2.5064 - val_accuracy: 0.3809\n",
            "Epoch 10/10\n",
            "391/391 [==============================] - 70s 180ms/step - loss: 1.9941 - accuracy: 0.4791 - val_loss: 2.4844 - val_accuracy: 0.3853\n",
            "313/313 [==============================] - 4s 13ms/step - loss: 2.4844 - accuracy: 0.3853\n",
            "Test Accuracy: 0.38530001044273376\n"
          ]
        }
      ]
    }
  ]
}